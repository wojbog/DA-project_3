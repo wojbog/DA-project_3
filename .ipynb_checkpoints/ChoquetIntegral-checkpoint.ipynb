{
 "cells": [
  {
   "cell_type": "code",
   "execution_count": 39,
   "metadata": {},
   "outputs": [],
   "source": [
    "import numpy as np\n",
    "import matplotlib.pyplot as plt\n",
    "from tqdm import tqdm\n",
    "import torch \n",
    "import torch.nn as nn\n",
    "import torch.nn.functional as F\n",
    "import torch.optim as optim\n",
    "from torch.utils.data import DataLoader, Dataset\n",
    "import pandas as pd\n",
    "from functools import partial\n",
    "import math\n",
    "from sklearn.model_selection import train_test_split\n",
    "from threshold_layer import ThresholdLayer\n",
    "from utils import *"
   ]
  },
  {
   "cell_type": "markdown",
   "metadata": {},
   "source": [
    "# Model"
   ]
  },
  {
   "cell_type": "code",
   "execution_count": 40,
   "metadata": {},
   "outputs": [],
   "source": [
    "class LinearGreaterThanZero(nn.Linear):\n",
    "    \"\"\"Linear layer with weights constrained to be greater than zero.\n",
    "    \"\"\"\n",
    "    def __init__(self,in_features:int, bias:bool=False, min_w:float=0.0000001):\n",
    "        \"\"\"Constructor for LinearGreaterThanZero\n",
    "\n",
    "        Args:\n",
    "            in_features (int): Number of input features/ criteria\n",
    "            bias (bool, optional): Whether to include bias. Defaults to False.\n",
    "            min_w (float, optional): Minimum value for the weights. Defaults to 0.0000001.\n",
    "        \"\"\"\n",
    "        super().__init__(in_features,1, bias)\n",
    "        self.is_bias = bias\n",
    "        self.min_w = min_w\n",
    "        if bias:\n",
    "            nn.init.uniform_(self.bias, self.min_w ,1.)\n",
    "        else:\n",
    "            self.bias = None\n",
    "\n",
    "    def reset_parameters(self):\n",
    "        \"\"\"Reset the weights of the layer\"\"\"\n",
    "        nn.init.uniform_(self.weight, 0.1,1.)\n",
    "\n",
    "\n",
    "    def w(self)->torch.Tensor:\n",
    "        \"\"\"Get the weights of the layer and apply the constraint that the weights \n",
    "            should be greater than zero.\n",
    "\n",
    "        Returns:\n",
    "            torch.Tensor: Weights of the layer\n",
    "        \"\"\"\n",
    "        with torch.no_grad():\n",
    "            self.weight.data[self.weight.data<0]=self.min_w\n",
    "        return self.weight\n",
    "\n",
    "    def forward(self, input:torch.Tensor)->torch.Tensor:\n",
    "        \"\"\"Forward pass of the layer\n",
    "\n",
    "        Args:\n",
    "            input (torch.Tensor): Input tensor.\n",
    "\n",
    "        Returns:\n",
    "            torch.Tensor: Output tensor.\n",
    "        \"\"\"\n",
    "        return F.linear(input, self.w(), self.bias)\n"
   ]
  },
  {
   "cell_type": "code",
   "execution_count": 41,
   "metadata": {},
   "outputs": [],
   "source": [
    "class LinearInteraction(nn.Linear):\n",
    "    \"\"\"Linear layer for criteria interaction. It contains constraints that the inpact of each criteria should be positive.\n",
    "    \"\"\"\n",
    "    def __init__(self,in_features:int, criterion_layer:LinearGreaterThanZero):\n",
    "        \"\"\"Constructor for LinearInteraction\n",
    "\n",
    "        Args:\n",
    "            in_features (int): Number of input features/ criteria.\n",
    "            criterion_layer (LinearGreaterThanZero): Layer with the criteria weights.\n",
    "        \"\"\"\n",
    "        super().__init__(((in_features-1)*in_features)//2,1, False)\n",
    "        self.in_features = in_features\n",
    "        self.criterion_layer = criterion_layer\n",
    "        \n",
    "    def reset_parameters(self):\n",
    "        \"\"\"Reset the weights of the layer.\n",
    "        \"\"\"\n",
    "        nn.init.normal_(self.weight, 0.0,0.1)     \n",
    "    \n",
    "    def w(self)->torch.Tensor:\n",
    "        \"\"\"Get the weights of the layer and apply the constraint that the weights.\n",
    "\n",
    "        Returns:\n",
    "            torch.Tensor: Weights of the layer.\n",
    "        \"\"\"\n",
    "        with torch.no_grad():\n",
    "            w_i=0\n",
    "            w = self.criterion_layer.w()\n",
    "            for i in range(self.in_features):\n",
    "                for j in range(i+1,self.in_features):\n",
    "                    self.weight.data[:,w_i] =  torch.max(self.weight.data[:,w_i], -w[:,i])\n",
    "                    self.weight.data[:,w_i] =  torch.max(self.weight.data[:,w_i], -w[:,j])\n",
    "                    w_i+=1\n",
    "        return self.weight\n",
    "        \n",
    "    def forward(self, input:torch.Tensor)->torch.Tensor:\n",
    "        \"\"\"Forward pass of the layer.\n",
    "\n",
    "        Args:\n",
    "            input (torch.Tensor): Input tensor.\n",
    "\n",
    "        Returns:\n",
    "            torch.Tensor: Output tensor.\n",
    "        \"\"\"\n",
    "        return F.linear(input, self.w(), None)"
   ]
  },
  {
   "cell_type": "code",
   "execution_count": 42,
   "metadata": {},
   "outputs": [],
   "source": [
    "\n",
    "class ChoquetIntegralConstrained(nn.Module):\n",
    "    \"\"\"Choquet Integral model with constraints on the weights.\n",
    "    \"\"\"\n",
    "    def __init__(self, num_criteria:int):\n",
    "        \"\"\"Constructor for ChoquetIntegralConstrained\n",
    "\n",
    "        Args:\n",
    "            num_criteria (int): Number of criteria.\n",
    "        \"\"\"\n",
    "        super().__init__()\n",
    "        self.num_criteria = num_criteria\n",
    "        self.criteria_layer = LinearGreaterThanZero(num_criteria)\n",
    "        self.interaction_layer = LinearInteraction(num_criteria,self.criteria_layer)\n",
    "        self.threshold_layer = ThresholdLayer()\n",
    "    \n",
    "    def forward(self, input:torch.Tensor)->torch.Tensor:\n",
    "        \"\"\"Forward pass of the model.\n",
    "\n",
    "        Args:\n",
    "            input (torch.Tensor): Input tensor.\n",
    "\n",
    "        Returns:\n",
    "            torch.Tensor: Output tensor.\n",
    "        \"\"\"        \"\"\"\"\"\"    \n",
    "        if len(input.shape)==3:\n",
    "            input = input[:,0,:]\n",
    "        \n",
    "        # Calculate the criteria part of integral\n",
    "        x_wi = self.criteria_layer(input[:,:self.num_criteria])     \n",
    "        # Calculate the interaction part of integral \n",
    "        x_wij = self.interaction_layer(input[:,self.num_criteria:])\n",
    "        # Normalize scores\n",
    "        weight_sum = self.criteria_layer.w().sum()+self.interaction_layer.w().sum()\n",
    "        score =  (x_wi+x_wij)/(weight_sum)\n",
    "        return self.threshold_layer(score)"
   ]
  },
  {
   "cell_type": "code",
   "execution_count": 43,
   "metadata": {},
   "outputs": [],
   "source": [
    "def mobious_transform(row:list|np.ndarray)->list:\n",
    "    \"\"\"Mobious transform of the input row.\n",
    "    First n values are the criteria values and the rest are the minimum values of the pairs of criteria.\n",
    "\n",
    "    Args:\n",
    "        row (list | np.ndarray): Input row.\n",
    "\n",
    "    Returns:\n",
    "        list: Mobious transform of the input row.\n",
    "    \"\"\"\n",
    "    return  list(row) + [min(row[i],row[j]) for i in range(len(row)) for j in range(i+1,len(row))]"
   ]
  },
  {
   "cell_type": "markdown",
   "metadata": {},
   "source": [
    "# Load data"
   ]
  },
  {
   "cell_type": "code",
   "execution_count": 7,
   "metadata": {},
   "outputs": [],
   "source": [
    "path = 'data/lectures evaluation.csv'\n",
    "data = pd.read_csv(path,header=None)\n",
    "target_map = {0:0,1:0,2:0,3:1,4:1}\n",
    "num_criteria = 4\n",
    "\n",
    "data_input = data.iloc[:,:num_criteria].apply(lambda x: mobious_transform(x),axis=1, result_type ='expand')\n",
    "data_target = data[num_criteria].apply(lambda x: target_map[x])\n",
    "\n",
    "X_train, X_test, y_train, y_test = train_test_split(data_input.values,\n",
    "                                                    data_target.values,\n",
    "                                                    test_size=0.2,\n",
    "                                                    random_state=1234)"
   ]
  },
  {
   "cell_type": "code",
   "execution_count": 8,
   "metadata": {},
   "outputs": [],
   "source": [
    "train_dataloader = CreateDataLoader(X_train, y_train)\n",
    "test_dataloader = CreateDataLoader(X_test, y_test)\n"
   ]
  },
  {
   "cell_type": "code",
   "execution_count": 9,
   "metadata": {},
   "outputs": [],
   "source": [
    "PATH = 'choquet.pt'"
   ]
  },
  {
   "cell_type": "markdown",
   "metadata": {},
   "source": [
    "# Model creation and training"
   ]
  },
  {
   "cell_type": "code",
   "execution_count": 33,
   "metadata": {},
   "outputs": [
    {
     "name": "stderr",
     "output_type": "stream",
     "text": [
      "100%|██████████| 50/50 [00:02<00:00, 21.13it/s]\n"
     ]
    }
   ],
   "source": [
    "model = ChoquetIntegralConstrained(num_criteria)\n",
    "best_acc, best_auc,stats_train, stats_test, = Train(model, train_dataloader, test_dataloader, PATH, lr=0.01, epoch_nr=50)"
   ]
  },
  {
   "cell_type": "code",
   "execution_count": 34,
   "metadata": {},
   "outputs": [
    {
     "data": {
      "text/plain": [
       "<matplotlib.legend.Legend at 0x221e0b0a4b0>"
      ]
     },
     "execution_count": 34,
     "metadata": {},
     "output_type": "execute_result"
    },
    {
     "data": {
      "image/png": "[encoded data removed]",
      "text/plain": [
       "<Figure size 1500x600 with 3 Axes>"
      ]
     },
     "metadata": {},
     "output_type": "display_data"
    }
   ],
   "source": [
    "# Plot results\n",
    "fig = plt.figure(figsize=(15,6))\n",
    "\n",
    "ax = fig.add_subplot(131)\n",
    "ax.plot(stats_train.losses,label='train')\n",
    "ax.plot(stats_test.losses,label='test')\n",
    "ax.set_title('Loss')\n",
    "ax.legend()\n",
    "\n",
    "ax = fig.add_subplot(1,3,2)\n",
    "ax.plot(stats_train.auc_scores,label='train')\n",
    "ax.plot(stats_test.auc_scores,label='test')\n",
    "ax.set_title('AUC')\n",
    "ax.legend()\n",
    "\n",
    "ax = fig.add_subplot(1,3,3)\n",
    "ax.plot(stats_train.acc_scores,label='train')\n",
    "ax.plot(stats_test.acc_scores,label='test')\n",
    "ax.set_title('Accuracy')\n",
    "ax.legend()"
   ]
  },
  {
   "cell_type": "markdown",
   "metadata": {},
   "source": [
    "# Interpretation of the model"
   ]
  },
  {
   "cell_type": "code",
   "execution_count": 35,
   "metadata": {},
   "outputs": [
    {
     "data": {
      "text/plain": [
       "<All keys matched successfully>"
      ]
     },
     "execution_count": 35,
     "metadata": {},
     "output_type": "execute_result"
    }
   ],
   "source": [
    "checkpoint = torch.load(PATH)\n",
    "model.load_state_dict(checkpoint['model_state_dict'])"
   ]
  },
  {
   "cell_type": "code",
   "execution_count": 36,
   "metadata": {},
   "outputs": [],
   "source": [
    "weights = model.criteria_layer.w().detach().numpy()[0]\n",
    "interaction_weights = model.interaction_layer.w().detach().numpy()[0]\n",
    "s = weights.sum()+interaction_weights.sum()\n",
    "weights = weights/s\n",
    "interaction_weights = interaction_weights/s\n",
    "\n",
    "interactions = np.zeros((num_criteria,num_criteria))\n",
    "weight_id =0\n",
    "for i in range(num_criteria):\n",
    "    for j in range(i+1,num_criteria):\n",
    "        \n",
    "        interactions[i,j] = interactions[j,i] = interaction_weights[weight_id]\n",
    "        weight_id+=1"
   ]
  },
  {
   "cell_type": "code",
   "execution_count": 37,
   "metadata": {},
   "outputs": [
    {
     "name": "stdout",
     "output_type": "stream",
     "text": [
      "Criteria weights:\n",
      "[0.26056376 0.22395758 0.20610164 0.19292592]\n",
      "\n",
      "Criteria interctions:\n",
      "[[ 0.         -0.01868345  0.10433953  0.04860377]\n",
      " [-0.01868345  0.          0.02041416  0.00965525]\n",
      " [ 0.10433953  0.02041416  0.         -0.04787821]\n",
      " [ 0.04860377  0.00965525 -0.04787821  0.        ]]\n"
     ]
    }
   ],
   "source": [
    "print('Criteria weights:')\n",
    "print(weights)\n",
    "print()\n",
    "print('Criteria interctions:')\n",
    "print(interactions)"
   ]
  },
  {
   "cell_type": "code",
   "execution_count": 38,
   "metadata": {},
   "outputs": [
    {
     "name": "stdout",
     "output_type": "stream",
     "text": [
      "Importance of criterina (Shapley value):\n",
      "[0.32769369 0.22965056 0.24453938 0.19811632]\n"
     ]
    }
   ],
   "source": [
    "shapley = weights + interactions.sum(0)/2\n",
    "print('Importance of criterina (Shapley value):')\n",
    "print(shapley)"
   ]
  },
  {
   "cell_type": "code",
   "execution_count": null,
   "metadata": {},
   "outputs": [],
   "source": []
  }
 ],
 "metadata": {
  "kernelspec": {
   "display_name": "Python 3",
   "language": "python",
   "name": "python3"
  },
  "language_info": {
   "codemirror_mode": {
    "name": "ipython",
    "version": 3
   },
   "file_extension": ".py",
   "mimetype": "text/x-python",
   "name": "python",
   "nbconvert_exporter": "python",
   "pygments_lexer": "ipython3",
   "version": "3.12.2"
  }
 },
 "nbformat": 4,
 "nbformat_minor": 4
}
